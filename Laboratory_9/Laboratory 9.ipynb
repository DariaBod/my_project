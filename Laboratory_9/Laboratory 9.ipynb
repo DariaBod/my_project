{
 "cells": [
  {
   "cell_type": "markdown",
   "metadata": {},
   "source": [
    "#### Задание\n",
    "Будем парсить страницу со свежеми новостям на habr.com/ru/all/.\n",
    "\n",
    "Вам необходимо собирать только те статьи, в которых встречается хотя бы одно требуемое ключевое слово. Эти слова определяем в начале кода в переменной, например:\n",
    "\n",
    "KEYWORDS = ['python', 'парсинг']\n",
    "\n",
    "Поиск вести по всей доступной preview-информации (это информация, доступная непосредственно с текущей страницы).\n",
    "\n",
    "В итоге должен формироваться датафрейм вида: <дата> - <заголовок> - <ссылка>\n",
    "\n",
    "Дополнительная часть (необязательная)\n",
    "Улучшить скрипт так, чтобы он анализировал не только preview-информацию статьи, но и весь текст статьи целиком.\n",
    "\n",
    "Для этого потребуется получать страницы статей и искать по тексту внутри этой страницы.\n",
    "\n",
    "Итоговый датафрейм формировать со столбцами: <дата> - <заголовок> - <ссылка> - <текст_статьи>"
   ]
  },
  {
   "cell_type": "code",
   "execution_count": 132,
   "metadata": {},
   "outputs": [],
   "source": [
    "import requests"
   ]
  },
  {
   "cell_type": "code",
   "execution_count": 133,
   "metadata": {},
   "outputs": [],
   "source": [
    "from bs4 import BeautifulSoup\n",
    "import pandas as pd"
   ]
  },
  {
   "cell_type": "code",
   "execution_count": 135,
   "metadata": {},
   "outputs": [],
   "source": [
    "def find(req, KEYWORDS, time,title,link):\n",
    "    soup = BeautifulSoup(req.text, 'html.parser')\n",
    "    posts = soup.find_all('article', class_='post')\n",
    "    for post in posts:\n",
    "        post_id = post.parent.attrs.get('id')\n",
    "        if not post_id:\n",
    "            continue\n",
    "        post_id = int(post_id.split('_')[-1])\n",
    "        prewie=post.find('div', class_='post__text')\n",
    "        prewie_lower = prewie.text.lower()\n",
    "        if any([desired in prewie_lower for desired in KEYWORDS]):\n",
    "                title_element = post.find('a', class_='post__title_link')\n",
    "                data=post.find('span', class_=\"post__time\")\n",
    "                time.append(data)\n",
    "                title.append(title_element.text)\n",
    "                link.append(title_element.attrs.get('href'))\n",
    "                continue\n",
    "        hubs = post.find_all('a', class_='hub-link')\n",
    "        for hub in hubs:\n",
    "            hub_lower = hub.text.lower()\n",
    "           # ищем вхождение хотя бы одного желаемого хаба\n",
    "            if any([hub_lower in desired for desired in KEYWORDS]):\n",
    "                title_element = post.find('a', class_='post__title_link')\n",
    "                data=post.find('span', class_=\"post__time\")\n",
    "                if(title_element.text in title):\n",
    "                    continue\n",
    "                else:\n",
    "                    time.append(data)\n",
    "                    title.append(title_element.text)\n",
    "                    link.append(title_element.attrs.get('href'))\n",
    "               # так как пост уже нам подошел - дальше нет смысла проверять хабы\n",
    "                continue"
   ]
  },
  {
   "cell_type": "code",
   "execution_count": 139,
   "metadata": {},
   "outputs": [
    {
     "name": "stdout",
     "output_type": "stream",
     "text": [
      "                data                                              title  \\\n",
      "0  [сегодня в 09:07]  Ловля цен. Практическое руководство в море зак...   \n",
      "\n",
      "                               link  \n",
      "0  https://habr.com/ru/post/525540/  \n"
     ]
    }
   ],
   "source": [
    "URL='https://habr.com/ru/all'\n",
    "KEYWORDS = ['python', 'парсинг']\n",
    "time=[]\n",
    "title=[]\n",
    "link=[]\n",
    "req = requests.get(URL)\n",
    "find(req,KEYWORDS, time, title, link)\n",
    "news = pd.DataFrame(list(zip(time, title, link)),\n",
    "columns =['data', 'title', 'link'])\n",
    "print(news)"
   ]
  },
  {
   "cell_type": "code",
   "execution_count": null,
   "metadata": {},
   "outputs": [],
   "source": []
  }
 ],
 "metadata": {
  "kernelspec": {
   "display_name": "Python 3",
   "language": "python",
   "name": "python3"
  },
  "language_info": {
   "codemirror_mode": {
    "name": "ipython",
    "version": 3
   },
   "file_extension": ".py",
   "mimetype": "text/x-python",
   "name": "python",
   "nbconvert_exporter": "python",
   "pygments_lexer": "ipython3",
   "version": "3.8.3"
  }
 },
 "nbformat": 4,
 "nbformat_minor": 4
}
