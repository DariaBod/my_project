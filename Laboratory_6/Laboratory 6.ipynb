{
 "cells": [
  {
   "cell_type": "markdown",
   "metadata": {},
   "source": [
    "#### Задание 1\n",
    "Скачайте с сайта https://grouplens.org/datasets/movielens/ датасет любого размера. Определите какому фильму было выставлено больше всего оценок 5.0."
   ]
  },
  {
   "cell_type": "code",
   "execution_count": 232,
   "metadata": {},
   "outputs": [],
   "source": [
    "import pandas as pd"
   ]
  },
  {
   "cell_type": "code",
   "execution_count": 233,
   "metadata": {},
   "outputs": [
    {
     "data": {
      "text/html": [
       "<div>\n",
       "<style scoped>\n",
       "    .dataframe tbody tr th:only-of-type {\n",
       "        vertical-align: middle;\n",
       "    }\n",
       "\n",
       "    .dataframe tbody tr th {\n",
       "        vertical-align: top;\n",
       "    }\n",
       "\n",
       "    .dataframe thead th {\n",
       "        text-align: right;\n",
       "    }\n",
       "</style>\n",
       "<table border=\"1\" class=\"dataframe\">\n",
       "  <thead>\n",
       "    <tr style=\"text-align: right;\">\n",
       "      <th></th>\n",
       "      <th>userId</th>\n",
       "      <th>movieId</th>\n",
       "      <th>rating</th>\n",
       "      <th>timestamp</th>\n",
       "    </tr>\n",
       "  </thead>\n",
       "  <tbody>\n",
       "    <tr>\n",
       "      <th>0</th>\n",
       "      <td>1</td>\n",
       "      <td>1</td>\n",
       "      <td>4.0</td>\n",
       "      <td>964982703</td>\n",
       "    </tr>\n",
       "    <tr>\n",
       "      <th>1</th>\n",
       "      <td>1</td>\n",
       "      <td>3</td>\n",
       "      <td>4.0</td>\n",
       "      <td>964981247</td>\n",
       "    </tr>\n",
       "    <tr>\n",
       "      <th>2</th>\n",
       "      <td>1</td>\n",
       "      <td>6</td>\n",
       "      <td>4.0</td>\n",
       "      <td>964982224</td>\n",
       "    </tr>\n",
       "    <tr>\n",
       "      <th>3</th>\n",
       "      <td>1</td>\n",
       "      <td>47</td>\n",
       "      <td>5.0</td>\n",
       "      <td>964983815</td>\n",
       "    </tr>\n",
       "    <tr>\n",
       "      <th>4</th>\n",
       "      <td>1</td>\n",
       "      <td>50</td>\n",
       "      <td>5.0</td>\n",
       "      <td>964982931</td>\n",
       "    </tr>\n",
       "  </tbody>\n",
       "</table>\n",
       "</div>"
      ],
      "text/plain": [
       "   userId  movieId  rating  timestamp\n",
       "0       1        1     4.0  964982703\n",
       "1       1        3     4.0  964981247\n",
       "2       1        6     4.0  964982224\n",
       "3       1       47     5.0  964983815\n",
       "4       1       50     5.0  964982931"
      ]
     },
     "execution_count": 233,
     "metadata": {},
     "output_type": "execute_result"
    }
   ],
   "source": [
    "rating = pd.read_csv('ratings.csv')\n",
    "rating.head()"
   ]
  },
  {
   "cell_type": "code",
   "execution_count": 234,
   "metadata": {},
   "outputs": [
    {
     "data": {
      "text/html": [
       "<div>\n",
       "<style scoped>\n",
       "    .dataframe tbody tr th:only-of-type {\n",
       "        vertical-align: middle;\n",
       "    }\n",
       "\n",
       "    .dataframe tbody tr th {\n",
       "        vertical-align: top;\n",
       "    }\n",
       "\n",
       "    .dataframe thead th {\n",
       "        text-align: right;\n",
       "    }\n",
       "</style>\n",
       "<table border=\"1\" class=\"dataframe\">\n",
       "  <thead>\n",
       "    <tr style=\"text-align: right;\">\n",
       "      <th></th>\n",
       "      <th>movieId</th>\n",
       "      <th>rating</th>\n",
       "    </tr>\n",
       "  </thead>\n",
       "  <tbody>\n",
       "    <tr>\n",
       "      <th>0</th>\n",
       "      <td>1</td>\n",
       "      <td>4.0</td>\n",
       "    </tr>\n",
       "    <tr>\n",
       "      <th>1</th>\n",
       "      <td>3</td>\n",
       "      <td>4.0</td>\n",
       "    </tr>\n",
       "    <tr>\n",
       "      <th>2</th>\n",
       "      <td>6</td>\n",
       "      <td>4.0</td>\n",
       "    </tr>\n",
       "    <tr>\n",
       "      <th>3</th>\n",
       "      <td>47</td>\n",
       "      <td>5.0</td>\n",
       "    </tr>\n",
       "    <tr>\n",
       "      <th>4</th>\n",
       "      <td>50</td>\n",
       "      <td>5.0</td>\n",
       "    </tr>\n",
       "  </tbody>\n",
       "</table>\n",
       "</div>"
      ],
      "text/plain": [
       "   movieId  rating\n",
       "0        1     4.0\n",
       "1        3     4.0\n",
       "2        6     4.0\n",
       "3       47     5.0\n",
       "4       50     5.0"
      ]
     },
     "execution_count": 234,
     "metadata": {},
     "output_type": "execute_result"
    }
   ],
   "source": [
    "movie_rate = rating.filter(items = ['movieId', 'rating'])\n",
    "movie_rate.head()"
   ]
  },
  {
   "cell_type": "code",
   "execution_count": 235,
   "metadata": {},
   "outputs": [
    {
     "data": {
      "text/html": [
       "<div>\n",
       "<style scoped>\n",
       "    .dataframe tbody tr th:only-of-type {\n",
       "        vertical-align: middle;\n",
       "    }\n",
       "\n",
       "    .dataframe tbody tr th {\n",
       "        vertical-align: top;\n",
       "    }\n",
       "\n",
       "    .dataframe thead th {\n",
       "        text-align: right;\n",
       "    }\n",
       "</style>\n",
       "<table border=\"1\" class=\"dataframe\">\n",
       "  <thead>\n",
       "    <tr style=\"text-align: right;\">\n",
       "      <th></th>\n",
       "      <th>movieId</th>\n",
       "      <th>rating</th>\n",
       "    </tr>\n",
       "  </thead>\n",
       "  <tbody>\n",
       "    <tr>\n",
       "      <th>3</th>\n",
       "      <td>47</td>\n",
       "      <td>5.0</td>\n",
       "    </tr>\n",
       "    <tr>\n",
       "      <th>4</th>\n",
       "      <td>50</td>\n",
       "      <td>5.0</td>\n",
       "    </tr>\n",
       "    <tr>\n",
       "      <th>6</th>\n",
       "      <td>101</td>\n",
       "      <td>5.0</td>\n",
       "    </tr>\n",
       "    <tr>\n",
       "      <th>8</th>\n",
       "      <td>151</td>\n",
       "      <td>5.0</td>\n",
       "    </tr>\n",
       "    <tr>\n",
       "      <th>9</th>\n",
       "      <td>157</td>\n",
       "      <td>5.0</td>\n",
       "    </tr>\n",
       "  </tbody>\n",
       "</table>\n",
       "</div>"
      ],
      "text/plain": [
       "   movieId  rating\n",
       "3       47     5.0\n",
       "4       50     5.0\n",
       "6      101     5.0\n",
       "8      151     5.0\n",
       "9      157     5.0"
      ]
     },
     "execution_count": 235,
     "metadata": {},
     "output_type": "execute_result"
    }
   ],
   "source": [
    "filtered_movies_id = movie_rate[ (movie_rate['rating']==5.0) ]\n",
    "filtered_movies_id.head()"
   ]
  },
  {
   "cell_type": "code",
   "execution_count": 236,
   "metadata": {},
   "outputs": [],
   "source": [
    "best=filtered_movies_id['movieId'].value_counts().head(1).to_frame()"
   ]
  },
  {
   "cell_type": "code",
   "execution_count": 271,
   "metadata": {},
   "outputs": [
    {
     "name": "stdout",
     "output_type": "stream",
     "text": [
      "     movieId                             title       genres\n",
      "277      318  Shawshank Redemption, The (1994)  Crime|Drama\n"
     ]
    }
   ],
   "source": [
    "movies = pd.read_csv('movies.csv')\n",
    "best_film = movies[movies['movieId']==best.index[0]]\n",
    "print(best_film)"
   ]
  },
  {
   "cell_type": "markdown",
   "metadata": {},
   "source": [
    "#### Задание 2\n",
    "По данным файла power.csv посчитайте суммарное потребление стран Прибалтики (Латвия, Литва и Эстония) категорий 4, 12 и 21 за период с 2005 по 2010 года. Не учитывайте в расчетах отрицательные значения quantity."
   ]
  },
  {
   "cell_type": "code",
   "execution_count": 238,
   "metadata": {},
   "outputs": [
    {
     "data": {
      "text/html": [
       "<div>\n",
       "<style scoped>\n",
       "    .dataframe tbody tr th:only-of-type {\n",
       "        vertical-align: middle;\n",
       "    }\n",
       "\n",
       "    .dataframe tbody tr th {\n",
       "        vertical-align: top;\n",
       "    }\n",
       "\n",
       "    .dataframe thead th {\n",
       "        text-align: right;\n",
       "    }\n",
       "</style>\n",
       "<table border=\"1\" class=\"dataframe\">\n",
       "  <thead>\n",
       "    <tr style=\"text-align: right;\">\n",
       "      <th></th>\n",
       "      <th>country</th>\n",
       "      <th>year</th>\n",
       "      <th>quantity</th>\n",
       "      <th>category</th>\n",
       "    </tr>\n",
       "  </thead>\n",
       "  <tbody>\n",
       "    <tr>\n",
       "      <th>0</th>\n",
       "      <td>Austria</td>\n",
       "      <td>1996</td>\n",
       "      <td>5.0</td>\n",
       "      <td>1</td>\n",
       "    </tr>\n",
       "    <tr>\n",
       "      <th>1</th>\n",
       "      <td>Austria</td>\n",
       "      <td>1995</td>\n",
       "      <td>17.0</td>\n",
       "      <td>1</td>\n",
       "    </tr>\n",
       "    <tr>\n",
       "      <th>2</th>\n",
       "      <td>Belgium</td>\n",
       "      <td>2014</td>\n",
       "      <td>0.0</td>\n",
       "      <td>1</td>\n",
       "    </tr>\n",
       "    <tr>\n",
       "      <th>3</th>\n",
       "      <td>Belgium</td>\n",
       "      <td>2013</td>\n",
       "      <td>0.0</td>\n",
       "      <td>1</td>\n",
       "    </tr>\n",
       "    <tr>\n",
       "      <th>4</th>\n",
       "      <td>Belgium</td>\n",
       "      <td>2012</td>\n",
       "      <td>35.0</td>\n",
       "      <td>1</td>\n",
       "    </tr>\n",
       "  </tbody>\n",
       "</table>\n",
       "</div>"
      ],
      "text/plain": [
       "   country  year  quantity  category\n",
       "0  Austria  1996       5.0         1\n",
       "1  Austria  1995      17.0         1\n",
       "2  Belgium  2014       0.0         1\n",
       "3  Belgium  2013       0.0         1\n",
       "4  Belgium  2012      35.0         1"
      ]
     },
     "execution_count": 238,
     "metadata": {},
     "output_type": "execute_result"
    }
   ],
   "source": [
    "power = pd.read_csv('power.csv')\n",
    "power.head()"
   ]
  },
  {
   "cell_type": "code",
   "execution_count": 239,
   "metadata": {},
   "outputs": [
    {
     "name": "stdout",
     "output_type": "stream",
     "text": [
      "          country  year  quantity  category\n",
      "10617     Estonia  2008       1.0         4\n",
      "10620     Estonia  2005       1.0         4\n",
      "11156   Lithuania  2008       1.0         4\n",
      "11158   Lithuania  2006       1.0         4\n",
      "11159   Lithuania  2005       1.0         4\n",
      "...           ...   ...       ...       ...\n",
      "253982  Lithuania  2009      98.0        21\n",
      "253983  Lithuania  2008      54.0        21\n",
      "253984  Lithuania  2007      47.0        21\n",
      "253985  Lithuania  2006      31.0        21\n",
      "253986  Lithuania  2005       1.0        21\n",
      "\n",
      "[347 rows x 4 columns]\n"
     ]
    }
   ],
   "source": [
    "choosen = power[((power['country']=='Lithuania') | (power['country']=='Latvia') | (power['country']=='Estonia'))\n",
    "                &((power['category']==4) | (power['category']==12) | (power['category']==21))\n",
    "                &((power['year']>=2005) & (power['year']<=2010))&(power['quantity']>0)]\n",
    "print(choosen)"
   ]
  },
  {
   "cell_type": "code",
   "execution_count": 240,
   "metadata": {},
   "outputs": [
    {
     "data": {
      "text/plain": [
       "240580.0"
      ]
     },
     "execution_count": 240,
     "metadata": {},
     "output_type": "execute_result"
    }
   ],
   "source": [
    "sum(choosen['quantity'])"
   ]
  },
  {
   "cell_type": "markdown",
   "metadata": {},
   "source": [
    "#### Задание 3\n",
    "Выберите страницу любого сайта с табличными данными. Импортируйте таблицы в pandas dataframe.\n",
    "Примеры страниц (необязательно брать именно эти):\n",
    "https://fortrader.org/quotes\n",
    "https://www.finanz.ru/valyuty/v-realnom-vremeni"
   ]
  },
  {
   "cell_type": "code",
   "execution_count": 241,
   "metadata": {},
   "outputs": [
    {
     "name": "stdout",
     "output_type": "stream",
     "text": [
      "[     №                   Название Расстояние, св. лет Видимая величина  \\\n",
      "0    0                     Солнце            00000158           −26,72   \n",
      "1    1    Сириус (α Большого Пса)                  86            −1,46   \n",
      "2    2           Канопус (α Киля)                 310            −0,72   \n",
      "3    3       Толиман (α Центавра)                  43            −0,27   \n",
      "4    4        Арктур (α Волопаса)                  34            −0,04   \n",
      "5    5              Вега (α Лиры)                  25     0,03 (перем)   \n",
      "6    6      Капелла (α Возничего)                  41              008   \n",
      "7    7          Ригель (β Ориона)                ~870     0,12 (перем)   \n",
      "8    8     Процион (α Малого Пса)                 114              038   \n",
      "9    9        Ахернар (α Эридана)                  69              046   \n",
      "10  10     Бетельгейзе (α Ориона)                ~530     0,50 (перем)   \n",
      "11  11         Хадар (β Центавра)                ~400     0,61 (перем)   \n",
      "12  12           Альтаир (α Орла)                  16              077   \n",
      "13  13   Акрукс (α Южного Креста)                ~330              079   \n",
      "14  14      Альдебаран (α Тельца)                  60     0,85 (перем)   \n",
      "15  15      Антарес (α Скорпиона)                ~610     0,96 (перем)   \n",
      "16  16             Спика (α Девы)                 250     0,98 (перем)   \n",
      "17  17      Поллукс (β Близнецов)                  40              114   \n",
      "18  18  Фомальгаут (α Южной Рыбы)                  22              116   \n",
      "19  19   Мимоза (β Южного Креста)                ~290     1,25 (перем)   \n",
      "20  20           Денеб (α Лебедя)               ~1550              125   \n",
      "21  21             Регул (α Льва)                  69              135   \n",
      "22  22     Адара (ε Большого Пса)                ~400              150   \n",
      "23  23       Кастор (α Близнецов)                  49              157   \n",
      "24  24  Гакрукс (γ Южного Креста)                 120     1,63 (перем)   \n",
      "25  25        Шаула (λ Скорпиона)                 330     1,63 (перем)   \n",
      "\n",
      "   Абсолютная величина Спектральный класс Небесное полушарие  \n",
      "0                   48                G2V                NaN  \n",
      "1                   14               A1Vm              Южное  \n",
      "2                −5,53               A9II              Южное  \n",
      "3                  406            G2V+K1V              Южное  \n",
      "4                 −0,3           K1.5IIIp           Северное  \n",
      "5                   06               A0Va           Северное  \n",
      "6                 −0,5      G6III + G2III           Северное  \n",
      "7                   −7              B8Iae              Южное  \n",
      "8                   26             F5IV-V           Северное  \n",
      "9                 −1,3              B3Vnp              Южное  \n",
      "10               −5,14              M2Iab           Северное  \n",
      "11                −4,4              B1III              Южное  \n",
      "12                  23               A7Vn           Северное  \n",
      "13                −4,6      B0.5Iv + B1Vn              Южное  \n",
      "14                −0,3              K5III           Северное  \n",
      "15                −5,2            M1.5Iab              Южное  \n",
      "16                −3,2                B1V              Южное  \n",
      "17                  07             K0IIIb           Северное  \n",
      "18                  20               A3Va              Южное  \n",
      "19                −4,7            B0.5III              Южное  \n",
      "20                −7,2               A2Ia           Северное  \n",
      "21                −0,3               B7Vn           Северное  \n",
      "22                −4,8               B2II              Южное  \n",
      "23                  05          A1V + A2V           Северное  \n",
      "24                −1,2            M3.5III              Южное  \n",
      "25                −3,5             B1.5IV              Южное  ]\n"
     ]
    }
   ],
   "source": [
    "#page_url = 'https://www.finanz.ru/valyuty/v-realnom-vremeni'\n",
    "#table = pd.read_html(page_url, attrs = {'class':'quote_list'}, encoding='utf-8')\n",
    "#print(table)\n",
    "page_url='https://spacegid.com/stars/25-samyih-yarkih-zvyozd'\n",
    "table = pd.read_html(page_url, attrs = {'class':'pls'}, encoding='utf-8')\n",
    "print(table)"
   ]
  },
  {
   "cell_type": "markdown",
   "metadata": {},
   "source": [
    "#### Задание 4\n",
    "Напишите функцию, которая классифицирует фильмы из материалов занятия по следующим правилам:\n",
    "- оценка 2 и меньше - низкий рейтинг\n",
    "- оценка 4 и меньше - средний рейтинг\n",
    "- оценка 4.5 и 5 - высокий рейтинг\n",
    "\n",
    "Результат классификации запишите в столбец class"
   ]
  },
  {
   "cell_type": "code",
   "execution_count": null,
   "metadata": {},
   "outputs": [],
   "source": [
    "import warnings\n",
    "warnings.filterwarnings('ignore')\n",
    "movies['rating']=0\n",
    "movies['class']=''\n",
    "for id in range(0,100,1):\n",
    "    x=rating[(rating['movieId']==id)]['rating'].mean()\n",
    "    movies['rating'][(movies['movieId']==id)]=x\n",
    "    if x<=2:\n",
    "        movies['class'][(movies['movieId']==id)]='низкий рейтинг'\n",
    "    if x<=4:\n",
    "        movies['class'][(movies['movieId']==id)]='средний рейтинг'\n",
    "    if x>=4:\n",
    "        movies['class'][(movies['movieId']==id)]='высокий рейтинг'\n",
    "movies"
   ]
  },
  {
   "cell_type": "markdown",
   "metadata": {},
   "source": [
    "#### Задание 5\n",
    "Используем файл keywords.csv.\n",
    "\n",
    "Необходимо написать гео-классификатор, который каждой строке сможет выставить географическую принадлежность определенному региону. Т. е. если поисковый запрос содержит название города региона, то в столбце ‘region’ пишется название этого региона. Если поисковый запрос не содержит названия города, то ставим ‘undefined’.\n",
    "\n",
    "Правила распределения по регионам Центр, Северо-Запад и Дальний Восток:\n",
    "\n",
    "geo_data = {\n",
    "'Центр': ['москва', 'тула', 'ярославль'],\n",
    "'Северо-Запад': ['петербург', 'псков', 'мурманск'],\n",
    "'Дальний Восток': ['владивосток', 'сахалин', 'хабаровск']\n",
    "}\n",
    "\n",
    "Результат классификации запишите в отдельный столбец region."
   ]
  },
  {
   "cell_type": "code",
   "execution_count": 364,
   "metadata": {},
   "outputs": [],
   "source": [
    "geo_data = { 'Центр': ['москва', 'тула', 'ярославль'], 'Северо-Запад': ['петербург', 'псков', 'мурманск'], 'Дальний Восток': ['владивосток', 'сахалин', 'хабаровск'] }\n",
    "power = pd.read_csv('keywords.csv')"
   ]
  },
  {
   "cell_type": "code",
   "execution_count": 368,
   "metadata": {},
   "outputs": [
    {
     "ename": "TypeError",
     "evalue": "string indices must be integers",
     "output_type": "error",
     "traceback": [
      "\u001b[1;31m---------------------------------------------------------------------------\u001b[0m",
      "\u001b[1;31mTypeError\u001b[0m                                 Traceback (most recent call last)",
      "\u001b[1;32m<ipython-input-368-112af4334a31>\u001b[0m in \u001b[0;36m<module>\u001b[1;34m\u001b[0m\n\u001b[0;32m      1\u001b[0m \u001b[1;32mfor\u001b[0m \u001b[0mpows\u001b[0m \u001b[1;32min\u001b[0m \u001b[0mpower\u001b[0m\u001b[1;33m:\u001b[0m\u001b[1;33m\u001b[0m\u001b[1;33m\u001b[0m\u001b[0m\n\u001b[1;32m----> 2\u001b[1;33m     \u001b[0mprint\u001b[0m\u001b[1;33m(\u001b[0m\u001b[0mpows\u001b[0m\u001b[1;33m[\u001b[0m\u001b[1;34m'keyword'\u001b[0m\u001b[1;33m]\u001b[0m\u001b[1;33m)\u001b[0m\u001b[1;33m\u001b[0m\u001b[1;33m\u001b[0m\u001b[0m\n\u001b[0m",
      "\u001b[1;31mTypeError\u001b[0m: string indices must be integers"
     ]
    }
   ],
   "source": []
  },
  {
   "cell_type": "code",
   "execution_count": 378,
   "metadata": {},
   "outputs": [
    {
     "ename": "SyntaxError",
     "evalue": "invalid syntax (<ipython-input-378-fdb9c72f752a>, line 1)",
     "output_type": "error",
     "traceback": [
      "\u001b[1;36m  File \u001b[1;32m\"<ipython-input-378-fdb9c72f752a>\"\u001b[1;36m, line \u001b[1;32m1\u001b[0m\n\u001b[1;33m    [power['region']=[key for key, city1 in geo_data if city1==city] for city in geo_data.values() if power['keyword'].str.find(city)]\u001b[0m\n\u001b[1;37m                    ^\u001b[0m\n\u001b[1;31mSyntaxError\u001b[0m\u001b[1;31m:\u001b[0m invalid syntax\n"
     ]
    }
   ],
   "source": [
    "for city in geo_data.values():\n",
    "    if power[power['keyword'].str.contains(city, regex=False)]==True:\n",
    "        power['region']=[key for key, city1 in geo_data if city1==city]\n",
    "    else:\n",
    "        power['region']='undefined'\n",
    "print(power)"
   ]
  },
  {
   "cell_type": "markdown",
   "metadata": {},
   "source": [
    "#### Задание 6\n",
    "Есть мнение, что “раньше снимали настоящее кино, не то что сейчас”. Ваша задача проверить это утверждение, используя файлы с рейтингами фильмов из прошлого домашнего занятия (файл ratings.csv из базы https://grouplens.org/datasets/movielens). Т. е. проверить верно ли, что с ростом года выпуска фильма его средний рейтинг становится ниже.\n",
    "\n",
    "При этом мы не будем затрагивать субьективные факторы выставления этих рейтингов, а пройдемся по следующему алгоритму:\n",
    "\n",
    "В переменную years запишите список из всех годов с 1950 по 2010.\n",
    "\n",
    "Напишите функцию production_year, которая каждой строке из названия фильма выставляет год выпуска. Не все названия фильмов содержат год выпуска в одинаковом формате, поэтому используйте следующий алгоритм:\n",
    "\n",
    "для каждой строки пройдите по всем годам списка years\n",
    "если номер года присутствует в названии фильма, то функция возвращает этот год как год выпуска\n",
    "если ни один из номеров года списка years не встретился в названии фильма, то возвращается 1900 год\n",
    "Запишите год выпуска фильма по алгоритму пункта 2 в новый столбец ‘year’\n",
    "\n",
    "Посчитайте средний рейтинг всех фильмов для каждого значения столбца ‘year’ и отсортируйте результат по убыванию рейтинга"
   ]
  },
  {
   "cell_type": "code",
   "execution_count": 341,
   "metadata": {},
   "outputs": [],
   "source": [
    "def production_year(movies):\n",
    "    movies['year']='1900'\n",
    "    years=[i for i in range(1950,2010,1)]\n",
    "    for id in range(60,86):\n",
    "        temp=str(movies[(movies['movieId']==id)]['title'])\n",
    "        i=temp.find('(1')\n",
    "        if i==-1:\n",
    "            i=temp.find('(2')\n",
    "        movie_year=temp[i+1:i+5]\n",
    "        if str(years).count(movie_year)==1:\n",
    "            movies['year'][(movies['movieId']==id)]=movie_year\n",
    "    return 0"
   ]
  },
  {
   "cell_type": "code",
   "execution_count": 347,
   "metadata": {},
   "outputs": [
    {
     "name": "stdout",
     "output_type": "stream",
     "text": [
      "OrderedDict([(1950, nan), (1951, nan), (1952, nan), (1953, nan), (1954, nan), (1955, nan), (1956, nan), (1957, nan), (1958, nan), (1959, nan), (1960, nan), (1961, nan), (1962, nan), (1963, nan), (1964, nan), (1965, nan), (1966, nan), (1967, nan), (1968, nan), (1969, nan), (1970, nan), (1971, nan), (1972, nan), (1973, nan), (1974, nan), (1975, nan), (1976, nan), (1977, nan), (1978, nan), (1979, nan), (1980, nan), (1981, nan), (1982, nan), (1983, nan), (1984, nan), (1985, nan), (1986, nan), (1987, nan), (1988, nan), (1989, nan), (1990, nan), (1991, nan), (1992, nan), (1993, nan), (1994, nan), (1995, nan), (1996, nan), (1997, nan), (1998, nan), (1999, nan), (2000, nan), (2001, nan), (2002, nan), (2003, nan), (2004, nan), (2005, nan), (2006, nan), (2007, nan), (2008, nan), (2009, nan)])\n"
     ]
    }
   ],
   "source": [
    "from collections import OrderedDict\n",
    "from operator import itemgetter\n",
    "d={year:movies['rating'][(movies['year'])==year].mean() for year in years}\n",
    "print(OrderedDict(sorted(d.items(), key = itemgetter(1), reverse = True)))"
   ]
  },
  {
   "cell_type": "code",
   "execution_count": null,
   "metadata": {},
   "outputs": [],
   "source": []
  }
 ],
 "metadata": {
  "kernelspec": {
   "display_name": "Python 3",
   "language": "python",
   "name": "python3"
  }
 },
 "nbformat": 4,
 "nbformat_minor": 4
}
